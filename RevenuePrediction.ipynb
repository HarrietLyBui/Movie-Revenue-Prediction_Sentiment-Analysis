{
 "cells": [
  {
   "cell_type": "markdown",
   "metadata": {
    "collapsed": true
   },
   "source": [
    "## LinearRegression to predict movie revenues"
   ]
  },
  {
   "cell_type": "code",
   "execution_count": 40,
   "metadata": {
    "collapsed": false
   },
   "outputs": [
    {
     "name": "stdout",
     "output_type": "stream",
     "text": [
      "The autoreload extension is already loaded. To reload it, use:\n",
      "  %reload_ext autoreload\n"
     ]
    }
   ],
   "source": [
    "from __future__ import division  # this line is important to avoid unexpected behavior from division\n",
    "import os\n",
    "import csv\n",
    "import numpy as np\n",
    "from numpy import genfromtxt\n",
    "import pandas as pd\n",
    "import math\n",
    "from sklearn.feature_selection import SelectKBest\n",
    "from sklearn.feature_selection import f_regression\n",
    "from sklearn.metrics import mean_squared_error\n",
    "from sklearn.linear_model import LinearRegression\n",
    "from sklearn.tree import DecisionTreeRegressor\n",
    "import matplotlib.pyplot as plt\n",
    "\n",
    "\n",
    "%matplotlib inline\n",
    "plt.rcParams['figure.figsize'] = (5, 4) # set default size of plots\n",
    "\n",
    "# Some more magic so that the notebook will reload external python modules;\n",
    "# see http://stackoverflow.com/questions/1907993/autoreload-of-modules-in-ipython\n",
    "%load_ext autoreload\n",
    "%autoreload 2"
   ]
  },
  {
   "cell_type": "markdown",
   "metadata": {},
   "source": [
    "## Loading the data into python data structures"
   ]
  },
  {
   "cell_type": "code",
   "execution_count": 41,
   "metadata": {
    "collapsed": false
   },
   "outputs": [
    {
     "name": "stdout",
     "output_type": "stream",
     "text": [
      "Total length of data 2216\n",
      "(1771L, 15L)\n",
      "(1771L,)\n",
      "(444L, 15L)\n",
      "(444L,)\n"
     ]
    }
   ],
   "source": [
    "PATH = \"C:\\CMPSCI585\\Project\\OurProject\\Data\\RottenTomatoesData.csv\"   #Change the path accordingly\n",
    "\n",
    "df=pd.read_csv(PATH, sep=',')\n",
    "data = df.values\n",
    "#print data[:2][0][0:5]\n",
    "len_data = data.shape[0]\n",
    "print 'Total length of data',len_data\n",
    "train_X = df.drop('revenue', axis=1).values[1:int(0.80*len_data)]\n",
    "train_y = df.iloc[:,-1].values[1:int(0.80*len_data)]\n",
    "test_X = df.drop('revenue', axis=1).values[int(0.80*len_data):]\n",
    "test_y = df.iloc[:,-1].values[int(0.80*len_data):]\n",
    "print train_X.shape\n",
    "print train_y.shape\n",
    "print test_X.shape\n",
    "print test_y.shape"
   ]
  },
  {
   "cell_type": "code",
   "execution_count": 45,
   "metadata": {
    "collapsed": false
   },
   "outputs": [
    {
     "name": "stdout",
     "output_type": "stream",
     "text": [
      "[  6.56987725e+06   8.58506439e+06   2.71859935e+08   4.46107689e+06\n",
      "   3.46318904e+08]\n",
      "[  6670712  66468332 185770160 136150434   7390108]\n",
      "124007222.414\n"
     ]
    }
   ],
   "source": [
    "\n",
    "# model = LinearRegression()\n",
    "# model.fit(train_X,train_y)\n",
    "# predictions = model.predict(test_X)\n",
    "# print predictions[:5]\n",
    "# print test_y[:5]\n",
    "\n",
    "# MSE = mean_squared_error(test_y, predictions)\n",
    "# print math.sqrt(MSE)\n",
    "\n",
    "selector = SelectKBest(f_regression)\n",
    "selector.fit(train_X,train_y)\n",
    "X_train = train_X[:, selector.get_support()]\n",
    "X_test = test_X[:, selector.get_support()]\n",
    "#print selector.get_support()\n",
    "\n",
    "model = LinearRegression()\n",
    "#model = DecisionTreeRegressor(max_depth = 20)\n",
    "model.fit(X_train,train_y)\n",
    "predictions = model.predict(X_test)\n",
    "print predictions[:5]\n",
    "print test_y[:5]\n",
    "\n",
    "MSE = mean_squared_error(test_y, predictions)\n",
    "print math.sqrt(MSE)"
   ]
  },
  {
   "cell_type": "markdown",
   "metadata": {},
   "source": [
    "## Plotting Revenue vs imdbRating"
   ]
  },
  {
   "cell_type": "code",
   "execution_count": 60,
   "metadata": {
    "collapsed": false
   },
   "outputs": [
    {
     "name": "stdout",
     "output_type": "stream",
     "text": [
      "(2216L,)\n",
      "(2216L,)\n"
     ]
    },
    {
     "data": {
      "image/png": "[encoded data removed]",
      "text/plain": [
       "<matplotlib.figure.Figure at 0xe0221d0>"
      ]
     },
     "metadata": {},
     "output_type": "display_data"
    }
   ],
   "source": [
    "PATH = \"C:\\CMPSCI585\\Project\\OurProject\\Data\\ScatterPlot_Revenue_Rating.csv\"\n",
    "df=pd.read_csv(PATH, sep=',')\n",
    "data = df.values\n",
    "#s = df.ix[:,0]\n",
    "x = df[df.columns[0]].values\n",
    "print x.shape\n",
    "y = df[df.columns[-1]].values\n",
    "print y.shape\n",
    "ser =  pd.Series(index = x,data=y)\n",
    "df =ser.to_frame()\n",
    "\n",
    "df.reset_index(inplace=True)\n",
    "df.columns = ['imdbRating','revenue']\n",
    "df.plot(kind='scatter',x='imdbRating',y='revenue')\n",
    "plt.show()"
   ]
  },
  {
   "cell_type": "code",
   "execution_count": null,
   "metadata": {
    "collapsed": true
   },
   "outputs": [],
   "source": []
  }
 ],
 "metadata": {
  "anaconda-cloud": {},
  "kernelspec": {
   "display_name": "Python [conda env:py27]",
   "language": "python",
   "name": "conda-env-py27-py"
  },
  "language_info": {
   "codemirror_mode": {
    "name": "ipython",
    "version": 2
   },
   "file_extension": ".py",
   "mimetype": "text/x-python",
   "name": "python",
   "nbconvert_exporter": "python",
   "pygments_lexer": "ipython2",
   "version": "2.7.13"
  }
 },
 "nbformat": 4,
 "nbformat_minor": 1
}
